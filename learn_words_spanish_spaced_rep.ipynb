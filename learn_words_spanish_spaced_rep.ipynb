{
 "cells": [
  {
   "cell_type": "code",
   "execution_count": 34,
   "id": "74550e90",
   "metadata": {},
   "outputs": [
    {
     "name": "stdout",
     "output_type": "stream",
     "text": [
      "Inserta tu nombre geert\n"
     ]
    }
   ],
   "source": [
    "import pandas as pd\n",
    "import datetime\n",
    "import random\n",
    "from datetime import datetime, timedelta\n",
    "from requests import get\n",
    "import q\n",
    "\n",
    "class Colection:\n",
    "    def __init__(self):\n",
    "        self.user = input('Inserta tu nombre ') #TODO pick from users\n",
    "        self.words = pd.read_csv(directory+'\\words.csv', sep = ';') #TODO words_user add\n",
    "        self.suggestions = pd.read_csv(directory+'\\words_suggestions.csv', sep = ';')[['spanish','english']]\n",
    "        #self.words = pd.DataFrame()\n",
    "        self.levels = {x : 2**x for x in range(9)}\n",
    "        self.checks = {4 : {'er_mar' : 0.5, 'back' : 1}, \n",
    "                       5 : {'er_mar' : 0.3, 'back' : 1}, \n",
    "                       6 : {'er_mar' : 0.2, 'back' : 2}, \n",
    "                       7 : {'er_mar' : 0.1, 'back' : 2}, \n",
    "                       8 : {'er_mar' : 0.05, 'back' : 2}}\n",
    "        \n",
    "    def scrape_meaning(self, word):\n",
    "        while word[-1] == ' ':\n",
    "            word = word[:-1]\n",
    "        \n",
    "        if len(word.split(' ')) > 1: #get rid of the article\n",
    "            word = word.split(' ')[-1]\n",
    "        \n",
    "        word = word.replace(' ','')\n",
    "        \n",
    "        url = f'https://www.wordreference.com/definicion/{word}'\n",
    "        \n",
    "        my_headers = {\"User-Agent\":\"Mozilla/5.0 (Macintosh; Intel Mac OSX 10_14_3) AppleWebKit/537.36 (KHTML, like Gecko)Chrome/71.0.3578.98 Safari/537.36\", \"Accept\":\"text/html,application/xhtml+xml,application/xml;q=0.9,image/webp,image/apng,*/*;q=0.8\"}\n",
    "        html = str(get(url, headers = my_headers).text)\n",
    "        html_split = html.split(\"</h3><ol class='entry'><li>\")[1]\n",
    "\n",
    "        def_list = []\n",
    "        for x in html_split.split('</span><br>')[0].split('<li>'):\n",
    "            if ':<br>' in x and '<span' not in x.split(':<br>')[0] and 'loc.' not in x:\n",
    "                def_list.append(x.split(':<br>')[0])\n",
    "                \n",
    "        for num, definition in enumerate(def_list):\n",
    "            print(f'definition {num}: {definition}')\n",
    "            \n",
    "        user_inp = input('Si quieres usar una de las definiciones, presione el numero de la definición')\n",
    "        \n",
    "        try:\n",
    "            user_inp = int(user_inp)\n",
    "        except:\n",
    "            pass\n",
    "        \n",
    "        if type(user_inp) is int and -1 < user_inp < len(def_list):\n",
    "            return def_list[user_inp]\n",
    "        \n",
    "        return None\n",
    "        \n",
    "    def add_suggested_words(self, amount = 10):\n",
    "        d = self.suggestions.set_index('spanish').to_dict()['english']\n",
    "        words = list(d.keys())\n",
    "        random.shuffle(words)\n",
    "        \n",
    "        checked_words = []\n",
    "        \n",
    "        for word in words:\n",
    "            if amount != 0:\n",
    "                if input(f'Si quieres aprender {word}, (en ingles: {d[word]})?, presione clave \"1\"') == '1':\n",
    "                    \n",
    "                    self.add_word(word=word)\n",
    "                    checked_words.append(word)\n",
    "                    amount -= 1  \n",
    "                else:\n",
    "                    checked_words.append(word)\n",
    "            else:\n",
    "                break\n",
    "                    \n",
    "        self.suggestions = self.suggestions[~self.suggestions.spanish.isin(checked_words)]\n",
    "        self.suggestions.to_csv(directory+'\\words_suggestions.csv' ,sep= ';', index=False)\n",
    "            \n",
    "    def add_word(self, word = None):      \n",
    "        #Standard dict - this part will be the same for every record\n",
    "        columns_none = ['last_review','error_margin','trials','level','errors'] #Q do we need a last review?\n",
    "        record = {c : 0 for c in columns_none}\n",
    "        record['next_review'] = datetime.now()\n",
    "        \n",
    "        #If a word was suggested with add_suggested_word function no user input is requiered\n",
    "        if word:\n",
    "            record['word'] = word\n",
    "        else:\n",
    "            record['word'] = input('Que palabra quieres agregar? ')\n",
    "        \n",
    "        #Try to get scrape definiton otherwise use user input\n",
    "        scrape_description = self.scrape_meaning(record['word'])\n",
    "        if scrape_description:\n",
    "            record['description'] = scrape_description  \n",
    "        else:\n",
    "            record['description'] = input('Como describes la palabra? ')\n",
    "        \n",
    "        #Update the word list and save\n",
    "        self.words = self.words.append(record, ignore_index=True)\n",
    "        self.save_words()\n",
    "           \n",
    "    def save_words(self):\n",
    "        self.words.to_csv(directory+'\\words.csv' ,sep= ';', index=False)\n",
    "        \n",
    "    def generic_test(self, d):\n",
    "        errors = list(d.keys())\n",
    "        \n",
    "        while len(errors) > 0: #Make seperate function of this part if the practice will be added\n",
    "            new_errors = []\n",
    "            random.shuffle(errors)\n",
    "            for key in errors:\n",
    "                print(d[key])\n",
    "                if input('¿Qué significa eso? ') != key:\n",
    "                    print (f'la respuesta correcta es: {key}')\n",
    "                    new_errors.append(key)\n",
    "                print('')\n",
    "            errors = new_errors \n",
    "        \n",
    "    def practice_words(self, error_margin = 0.6, amount =10 , min_trials = 10):\n",
    "        df =self.words[(self.words.error_margin > error_margin) & (self.words.trials >= min_trials)]\n",
    "        df = df.sample(n=amount)\n",
    "        d = df.set_index('word').to_dict()['description']\n",
    "        \n",
    "        \n",
    "        \n",
    "        self.generic_test(d)\n",
    "        \n",
    "                   \n",
    "    def test_words(self):\n",
    "        def update_row(word, is_error):\n",
    "            d = self.words[self.words.word == word].to_dict('records')[0]\n",
    "            d['trials'] += 1\n",
    "            if is_error is True:\n",
    "                d['errors'] += 1\n",
    "\n",
    "            d['error_margin'] = d['errors'] / d['trials']\n",
    "            \n",
    "            d['last_review'] = datetime.now()\n",
    "            tdelta = self.levels[d['level']]\n",
    "            d['next_review'] = datetime.now() + timedelta(days=tdelta)            \n",
    "            \n",
    "            if d['level'] in self.checks.keys() and d['error_margin'] >= self.checks[d['level']]['er_mar']:\n",
    "                d['level'] = self.checks[d['level']]['back']\n",
    "            elif d['level'] < 8:\n",
    "                d['level'] +=1\n",
    "                \n",
    "            #Change the row\n",
    "            self.words.loc[self.words['word'] == d['word']] = [pd.Series(d)]\n",
    "        \n",
    "        self.words.next_review = pd.to_datetime(self.words.next_review)\n",
    "        test_words = self.words[self.words.next_review <= datetime.now()]\n",
    "\n",
    "        d = test_words.set_index('word').to_dict()['description']\n",
    "        \n",
    "        errors = []\n",
    "        preguntas = list(d.keys())\n",
    "        random.shuffle(preguntas)\n",
    "        \n",
    "        for key in preguntas:\n",
    "            print(d[key])\n",
    "            if input('¿Qué significa eso? ') != key:\n",
    "                print (f'la respuesta correcta es: {key}')\n",
    "                print('')\n",
    "                errors.append(key)\n",
    "                update_row(key,True)\n",
    "            else:\n",
    "                update_row(key,False)     \n",
    "        self.save_words()\n",
    "        \n",
    "        d = {k:v for k, v in d.items() if k in errors}\n",
    "        self.generic_test(d)\n",
    "        \n",
    "            \n",
    "directory = #insert the directory\n",
    "colection = Colection()"
   ]
  },
  {
   "cell_type": "code",
   "execution_count": 12,
   "id": "325ed692",
   "metadata": {},
   "outputs": [],
   "source": [
    "new_word = []\n",
    "for w in colection.suggestions.spanish:\n",
    "    while w[0] == ' ':\n",
    "        w = w[1:]\n",
    "    \n",
    "    while w[-1] == ' ':\n",
    "        w = w[:-1]\n",
    "        \n",
    "    new_word.append(w)\n",
    "    \n",
    "colection.suggestions.spanish = new_word\n",
    "\n",
    "\n",
    "colection.suggestions.to_csv(directory+'\\words_suggestions.csv' ,sep= ';', index=False)"
   ]
  },
  {
   "cell_type": "code",
   "execution_count": 32,
   "id": "1a225e6c",
   "metadata": {},
   "outputs": [
    {
     "name": "stdout",
     "output_type": "stream",
     "text": [
      " Acción y resultado de reunir y guardar cosas en cantidad\n",
      "¿Qué significa eso? el almacenamiento\n",
      "\n",
      "Que tiene poca disposición para hacer algo que requiere esfuerzo o constituye una obligación, especialmente trabajar.\n",
      "¿Qué significa eso? perezoso\n",
      "\n",
      " Ángulo entrante que se forma donde se encuentran dos o tres superficies, especialmente dos paredes.\n",
      "¿Qué significa eso? el rincón\n",
      "\n",
      "tr. Oler con atención, aplicando el olfato repetidas veces\n",
      "¿Qué significa eso? olfatear\n",
      "\n",
      "f. En un centro docente,  sala destinada a la enseñanza\n",
      "¿Qué significa eso? el aula\n",
      "\n",
      "Pieza de tela más o menos gruesa que cubre las sábanas y mantas de una cama y sirve de adorno y de abrigo.\n",
      "¿Qué significa eso? la colcha\n",
      "\n",
      "tr. y prnl. Dar calor,  elevar la temperatura. También intr.\n",
      "¿Qué significa eso? calentar\n",
      "\n",
      " Quitar la paz o tranquilidad a alguien\n",
      "¿Qué significa eso? turbar\n",
      "la respuesta correcta es: perturbar\n",
      "\n",
      " Mala costumbre adquirida por alguna circunstancia y que es difícil de eliminar.\n",
      "¿Qué significa eso? el resabio\n",
      "\n",
      "m. Exposición breve de lo esencial de un asunto o materia\n",
      "¿Qué significa eso? el resumen\n",
      "\n",
      " Quitar la paz o tranquilidad a alguien\n",
      "¿Qué significa eso? perturbar\n",
      "\n"
     ]
    }
   ],
   "source": [
    "colection.practice_words(min_trials=1)"
   ]
  },
  {
   "cell_type": "code",
   "execution_count": 8,
   "id": "0569ed0a",
   "metadata": {},
   "outputs": [],
   "source": [
    "colection.save_words()"
   ]
  },
  {
   "cell_type": "code",
   "execution_count": 84,
   "id": "5822d5bf",
   "metadata": {},
   "outputs": [
    {
     "name": "stdout",
     "output_type": "stream",
     "text": [
      "Que palabra quieres agregar? la harina\n",
      "Como describes la palabra?  Polvo que resulta de la molienda de los cereales y otras semillas.\n"
     ]
    }
   ],
   "source": [
    "colection.add_word()"
   ]
  },
  {
   "cell_type": "code",
   "execution_count": 86,
   "id": "068b487c",
   "metadata": {},
   "outputs": [],
   "source": [
    "colection.save_words()"
   ]
  },
  {
   "cell_type": "code",
   "execution_count": 259,
   "id": "e5655f67",
   "metadata": {},
   "outputs": [
    {
     "data": {
      "text/html": [
       "<div>\n",
       "<style scoped>\n",
       "    .dataframe tbody tr th:only-of-type {\n",
       "        vertical-align: middle;\n",
       "    }\n",
       "\n",
       "    .dataframe tbody tr th {\n",
       "        vertical-align: top;\n",
       "    }\n",
       "\n",
       "    .dataframe thead th {\n",
       "        text-align: right;\n",
       "    }\n",
       "</style>\n",
       "<table border=\"1\" class=\"dataframe\">\n",
       "  <thead>\n",
       "    <tr style=\"text-align: right;\">\n",
       "      <th></th>\n",
       "      <th>description</th>\n",
       "      <th>error_margin</th>\n",
       "      <th>errors</th>\n",
       "      <th>last_review</th>\n",
       "      <th>level</th>\n",
       "      <th>next_review</th>\n",
       "      <th>trials</th>\n",
       "      <th>word</th>\n",
       "    </tr>\n",
       "  </thead>\n",
       "  <tbody>\n",
       "  </tbody>\n",
       "</table>\n",
       "</div>"
      ],
      "text/plain": [
       "Empty DataFrame\n",
       "Columns: [description, error_margin, errors, last_review, level, next_review, trials, word]\n",
       "Index: []"
      ]
     },
     "execution_count": 259,
     "metadata": {},
     "output_type": "execute_result"
    }
   ],
   "source": [
    "colection.words"
   ]
  },
  {
   "cell_type": "code",
   "execution_count": 40,
   "id": "b74d2f90",
   "metadata": {},
   "outputs": [],
   "source": [
    "colection.test_words()"
   ]
  },
  {
   "cell_type": "code",
   "execution_count": 35,
   "id": "a996ced4",
   "metadata": {},
   "outputs": [
    {
     "name": "stdout",
     "output_type": "stream",
     "text": [
      "Si quieres aprender el queso, (en ingles:  cheese )?, presione clave \"1\"2\n",
      "Si quieres aprender el mineral, (en ingles:  mineral )?, presione clave \"1\"2\n",
      "Si quieres aprender el magistrado, (en ingles:  magistrate )?, presione clave \"1\"2\n",
      "Si quieres aprender reclinar, (en ingles: tilt. recline)?, presione clave \"1\"1\n",
      "definition 0: tr. y prnl. Inclinar sobre algo que sirve de apoyo\n",
      "Si quieres usar una de las definiciones, presione el numero de la definición0\n"
     ]
    }
   ],
   "source": [
    "colection.add_suggested_words(amount = 1)"
   ]
  },
  {
   "cell_type": "code",
   "execution_count": 14,
   "id": "86a56833",
   "metadata": {},
   "outputs": [
    {
     "name": "stdout",
     "output_type": "stream",
     "text": [
      "definition 0: tr. No aceptar\n",
      "definition 1:  Resistir un cuerpo a otro obligándolo a retroceder en su movimiento\n",
      "definition 2:  Resistir\n"
     ]
    }
   ],
   "source": [
    "url = f'https://www.wordreference.com/definicion/rechazar'\n",
    "\n",
    "my_headers = {\"User-Agent\":\"Mozilla/5.0 (Macintosh; Intel Mac OSX 10_14_3) AppleWebKit/537.36 (KHTML, like Gecko)Chrome/71.0.3578.98 Safari/537.36\", \"Accept\":\"text/html,application/xhtml+xml,application/xml;q=0.9,image/webp,image/apng,*/*;q=0.8\"}\n",
    "html = str(get(url, headers = my_headers).text)\n",
    "html_split = html.split(\"</h3><ol class='entry'><li>\")[1]\n",
    "\n",
    "def_list = []\n",
    "for x in html_split.split('</span><br>')[0].split('<li>'):\n",
    "    if ':<br>' in x and '<span' not in x.split(':<br>')[0] and 'loc.' not in x:\n",
    "        def_list.append(x.split(':<br>')[0])\n",
    "\n",
    "for num, definition in enumerate(def_list):\n",
    "    print(f'definition {num}: {definition}')"
   ]
  },
  {
   "cell_type": "code",
   "execution_count": null,
   "id": "1f03caf7",
   "metadata": {},
   "outputs": [],
   "source": []
  },
  {
   "cell_type": "code",
   "execution_count": 4,
   "id": "21948530",
   "metadata": {},
   "outputs": [],
   "source": [
    "import json\n",
    "\n",
    "with open(r'C:\\Users\\geert\\OneDrive\\Documenten\\palabras\\palabras.json', \"r\") as read_file:\n",
    "    d = json.load(read_file)\n",
    "    \n",
    "with open(r'C:\\Users\\geert\\OneDrive\\Documenten\\palabras\\palabras_historico.json', \"r\") as read_file:\n",
    "    d_hist = json.load(read_file)\n",
    "\n",
    "\n"
   ]
  },
  {
   "cell_type": "code",
   "execution_count": 5,
   "id": "e90084ca",
   "metadata": {},
   "outputs": [
    {
     "data": {
      "text/plain": [
       "334"
      ]
     },
     "execution_count": 5,
     "metadata": {},
     "output_type": "execute_result"
    }
   ],
   "source": [
    "d.update(d_hist)\n",
    "\n",
    "\n",
    "len(d)"
   ]
  },
  {
   "cell_type": "code",
   "execution_count": 6,
   "id": "0708e623",
   "metadata": {},
   "outputs": [],
   "source": [
    "teller = 0\n",
    "tdelta = 0\n",
    "\n",
    "for word in d.keys():\n",
    "    if teller % 15 == 0:\n",
    "        tdelta += 1\n",
    "    \n",
    "    columns_none = ['last_review','error_margin','trials','level','errors'] #Q do we need a last review?\n",
    "    record = {c : 0 for c in columns_none}\n",
    "    record['next_review'] = datetime.now() + timedelta(days=tdelta) - timedelta(days=1)\n",
    "    record['word'] = word\n",
    "    record['description'] = d[word]\n",
    "    colection.words = colection.words.append(record, ignore_index=True)\n",
    "    colection.save_words()\n",
    "    \n",
    "    teller += 1\n",
    "\n",
    "    "
   ]
  },
  {
   "cell_type": "code",
   "execution_count": null,
   "id": "468d72f2",
   "metadata": {},
   "outputs": [],
   "source": []
  }
 ],
 "metadata": {
  "kernelspec": {
   "display_name": "Python 3",
   "language": "python",
   "name": "python3"
  },
  "language_info": {
   "codemirror_mode": {
    "name": "ipython",
    "version": 3
   },
   "file_extension": ".py",
   "mimetype": "text/x-python",
   "name": "python",
   "nbconvert_exporter": "python",
   "pygments_lexer": "ipython3",
   "version": "3.8.8"
  }
 },
 "nbformat": 4,
 "nbformat_minor": 5
}
